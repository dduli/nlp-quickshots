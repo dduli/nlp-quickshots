{
 "cells": [
  {
   "cell_type": "code",
   "execution_count": 1,
   "metadata": {},
   "outputs": [
    {
     "name": "stderr",
     "output_type": "stream",
     "text": [
      "/home/ddu/.python-env3/lib/python3.6/site-packages/ipykernel_launcher.py:5: TqdmExperimentalWarning: Using `tqdm.autonotebook.tqdm` in notebook mode. Use `tqdm.tqdm` instead to force console mode (e.g. in jupyter console)\n",
      "  \"\"\"\n"
     ]
    }
   ],
   "source": [
    "import pymysql\n",
    "from sqlalchemy import create_engine\n",
    "import pymysql\n",
    "import pandas as pd\n",
    "from tqdm.autonotebook import tqdm\n",
    "from pandarallel import pandarallel\n",
    "import matplotlib.pyplot as plt"
   ]
  },
  {
   "cell_type": "code",
   "execution_count": 2,
   "metadata": {},
   "outputs": [],
   "source": [
    "from functional import seq\n",
    "from functional.util import compose\n",
    "from IPython.core.display import display, HTML\n",
    "import lxml.html\n",
    "import re\n",
    "import string"
   ]
  },
  {
   "cell_type": "code",
   "execution_count": 3,
   "metadata": {},
   "outputs": [],
   "source": [
    "DATA_DIR = \"/home/ddu/projects/data/wiki_dump\""
   ]
  },
  {
   "cell_type": "code",
   "execution_count": 88,
   "metadata": {},
   "outputs": [],
   "source": [
    "# OLD method\n",
    "# def html_2_text0(html_str):\n",
    "#     if pd.isnull(html_str):\n",
    "#         return \"\"\n",
    "#     try:\n",
    "#         return \" \".join(lxml.html.fromstring(html_str).itertext()).replace(\"\\xa0\", \" \")\n",
    "#     except Exception as e:\n",
    "#         return None"
   ]
  },
  {
   "cell_type": "code",
   "execution_count": 5,
   "metadata": {},
   "outputs": [],
   "source": [
    "public_doc = pd.read_csv(f\"{DATA_DIR}/public_doc.csv\")"
   ]
  },
  {
   "cell_type": "code",
   "execution_count": 8,
   "metadata": {},
   "outputs": [
    {
     "data": {
      "text/plain": [
       "Index(['document_id', 'searchin_id', 'title', 'name', 'privacy_level',\n",
       "       'description', 'stripped_url', 'transcript', 'email', 'inherit_from_id',\n",
       "       'inheritance_type', 'version', 'namespace', 'date_created',\n",
       "       'date_updated', 'word_count'],\n",
       "      dtype='object')"
      ]
     },
     "execution_count": 8,
     "metadata": {},
     "output_type": "execute_result"
    }
   ],
   "source": [
    "public_doc.columns"
   ]
  },
  {
   "cell_type": "code",
   "execution_count": 233,
   "metadata": {},
   "outputs": [],
   "source": [
    "def remove_script(root):\n",
    "    elements = root.xpath(\"//script\")\n",
    "    for e in elements:\n",
    "        text = e.tail\n",
    "        parent = e.getparent()\n",
    "        if parent is not None:\n",
    "            previous = r.getprevious()\n",
    "            if previous is not None:\n",
    "                previous.tail = text\n",
    "            else:\n",
    "                parent.text = \"{}{}\".format(parent.text or \"\", \" {}\".format(text) if text else \"\")\n",
    "            parent.remove(e)"
   ]
  },
  {
   "cell_type": "code",
   "execution_count": 234,
   "metadata": {},
   "outputs": [],
   "source": [
    "# inline_tags = ('a', 'abbr', 'acronym', 'b', 'bdi', 'bdo', 'big', 'cite', 'code', 'dfn', 'em', 'i', 'kbd',\n",
    "#                    'label', 'mark', 'nav', 'output', 'progress', 'q', 's', 'slot', 'small', 'span', 'strong',\n",
    "#                    'sub', 'sup', 'time', 'tt', 'var', 'wbr')\n",
    "inline_tags = ('a', 'abbr', 'acronym', 'b', 'bdi', 'bdo', 'big', 'cite', 'dfn', 'em', 'i', 'kbd',\n",
    "                   'label', 'mark', 'q', 's', 'slot', 'small', 'span', 'strong', \"samp\", \"img\"\n",
    "                   'sub', 'sup', 'time', 'tt', 'var', 'wbr', 'u', 'del', 'ins')\n",
    "def remove_inline_formating(root, tags=inline_tags):\n",
    "    tag_regex = \" or \".join([f\"self::{x}\" for x in tags])\n",
    "    elements = root.xpath(\"//*[{}]\".format(tag_regex))\n",
    "    for e in elements[::-1]:\n",
    "        if e.text and e.tail:\n",
    "            text = f\"{e.text}{e.tail}\"\n",
    "        else:\n",
    "            text = e.text or e.tail\n",
    "        parent = e.getparent()\n",
    "        if parent is not None:\n",
    "            previous = e.getprevious()\n",
    "            if previous is not None:\n",
    "                if previous.tail and text:\n",
    "                    previous.tail = f\"{previous.tail}{text}\"\n",
    "                else:\n",
    "                    previous.tail = previous.tail or text\n",
    "            else:\n",
    "                if parent.text and text:\n",
    "                    parent.text = f\"{parent.text}{text}\"\n",
    "                else:\n",
    "                    parent.text = parent.text or text\n",
    "            parent.remove(e)"
   ]
  },
  {
   "cell_type": "code",
   "execution_count": 235,
   "metadata": {},
   "outputs": [],
   "source": [
    "def html_2_textpieces(html_str):\n",
    "    if pd.isnull(html_str):\n",
    "        return \"\"\n",
    "    try:\n",
    "        r = lxml.html.fromstring(html_str)\n",
    "        remove_script(r)\n",
    "        remove_inline_formating(r)\n",
    "        return [\n",
    "            x.replace(\"\\xa0\", \" \").strip()\n",
    "            for x in r.itertext()\n",
    "            if x.replace(\"\\xa0\", \" \").strip() != \"\"\n",
    "        ]\n",
    "    except Exception as e:\n",
    "        return None"
   ]
  },
  {
   "cell_type": "code",
   "execution_count": 247,
   "metadata": {},
   "outputs": [],
   "source": [
    "test1 = \"<div> It is a very good <strong>man</strong> with <i>U</i> very good arms</div>\"\n",
    "test2 = \"\"\"\n",
    "<div><h2> Title</h2><span style=\"color: red\"><strong>Note</strong></span> that <u>something</u> could be <strong>very</strong> wrong.</div>\n",
    "\"\"\""
   ]
  },
  {
   "cell_type": "code",
   "execution_count": 248,
   "metadata": {},
   "outputs": [
    {
     "data": {
      "text/html": [
       "<div> It is a very good <strong>man</strong> with <i>U</i> very good arms</div>"
      ],
      "text/plain": [
       "<IPython.core.display.HTML object>"
      ]
     },
     "metadata": {},
     "output_type": "display_data"
    },
    {
     "name": "stdout",
     "output_type": "stream",
     "text": [
      "['It is a very good man with U very good arms']\n"
     ]
    }
   ],
   "source": [
    "display(HTML(test1))\n",
    "print(html_2_textpieces(test1))"
   ]
  },
  {
   "cell_type": "code",
   "execution_count": 249,
   "metadata": {},
   "outputs": [
    {
     "data": {
      "text/html": [
       "\n",
       "<div><h2> Title</h2><span style=\"color: red\"><strong>Note</strong></span> that <u>something</u> could be <strong>very</strong> wrong.</div>\n"
      ],
      "text/plain": [
       "<IPython.core.display.HTML object>"
      ]
     },
     "metadata": {},
     "output_type": "display_data"
    },
    {
     "name": "stdout",
     "output_type": "stream",
     "text": [
      "['Title', 'Note that something could be very wrong.']\n"
     ]
    }
   ],
   "source": [
    "display(HTML(test2))\n",
    "print(html_2_textpieces(test2))"
   ]
  },
  {
   "cell_type": "code",
   "execution_count": 250,
   "metadata": {},
   "outputs": [
    {
     "name": "stdout",
     "output_type": "stream",
     "text": [
      "--Reporting latency issues:\n",
      "--Please report it to us by using the following steps:\n",
      "--1. Open up Chrome.\n",
      "--2. On a Mac, press Command-Opt-i to open up the Developer Tools. On a PC, it's Control-Shift-i.\n",
      "--3. Make sure you click on the Network tab. If you need to, enable it, otherwise just leave it blank.\n",
      "--4. With that browser, type http://business.linkedin.com into the URL window and go. The Network tab should start filling up with data, displaying all the requests it had to make and the various timings it took.\n",
      "--5. When the page fully renders, control-click (or right-click on a PC) anywhere within the Network area and select Save as HAR with Content.\n",
      "--6. Take a quick snapshot of the Network area (on a Mac you can use Command-Shift-3, on a PC you'll have to press PrintScreen and then paste into Paint).\n",
      "--7. Create a JIRA Bug under SITES and title it \"latency - YOUR LOCATION - URL\" and include the screenshot and the HAR file.\n",
      "--This will help us collect more solid data on performance that will inform our next steps on improving latency.\n"
     ]
    }
   ],
   "source": [
    "i = 78\n",
    "text = html_2_text(public_doc.iloc[i].description)\n",
    "for x in text.split(\"\\n\"):\n",
    "    print(\"--{}\".format(x))"
   ]
  },
  {
   "cell_type": "code",
   "execution_count": 251,
   "metadata": {},
   "outputs": [
    {
     "data": {
      "text/html": [
       "<div class=\"table-wrap\"><table class=\"confluenceTable\"><colgroup><col/></colgroup><tbody><tr><td style=\"text-align: left;\" class=\"confluenceTd\">Reporting latency issues:</td></tr><tr><td style=\"text-align: left;\" class=\"confluenceTd\">Please report it to us by using the following steps:<br/><br/>1. Open up Chrome.<br/>2. On a Mac, press Command-Opt-i to open up the Developer Tools. On a PC, it's Control-Shift-i.<br/>3. Make sure you click on the Network tab. If you need to, enable it, otherwise just leave it blank.<br/>4. With that browser, type <a class=\"external-link\" href=\"http://business.linkedin.com\" rel=\"nofollow\">http://business.linkedin.com</a> into the URL window and go. The Network tab should start filling up with data, displaying all the requests it had to make and the various timings it took.<br/>5. When the page fully renders, control-click (or right-click on a PC) anywhere within the Network area and select Save as HAR with Content.<br/>6. Take a quick snapshot of the Network area (on a Mac you can use Command-Shift-3, on a PC you'll have to press PrintScreen and then paste into Paint).<br/>7. Create a JIRA Bug under SITES and title it &quot;latency - YOUR LOCATION - URL&quot; and include the screenshot and the HAR file.<br/><br/>This will help us collect more solid data on performance that will inform our next steps on improving latency.</td></tr></tbody></table></div>"
      ],
      "text/plain": [
       "<IPython.core.display.HTML object>"
      ]
     },
     "metadata": {},
     "output_type": "display_data"
    }
   ],
   "source": [
    "# i = 167\n",
    "display(HTML(public_doc.iloc[i].description))\n",
    "root = lxml.html.fromstring(public_doc.iloc[i].description)"
   ]
  },
  {
   "cell_type": "markdown",
   "metadata": {},
   "source": [
    "## Process wiki"
   ]
  },
  {
   "cell_type": "code",
   "execution_count": 275,
   "metadata": {},
   "outputs": [
    {
     "name": "stdout",
     "output_type": "stream",
     "text": [
      "INFO: Pandarallel will run on 2 workers.\n",
      "INFO: Pandarallel will use Memory file system to transfer data between the main process and workers.\n"
     ]
    }
   ],
   "source": [
    "pandarallel.initialize(progress_bar=True, nb_workers=2)"
   ]
  },
  {
   "cell_type": "code",
   "execution_count": 276,
   "metadata": {},
   "outputs": [
    {
     "data": {
      "text/plain": [
       "'0123456789abcdefghijklmnopqrstuvwxyzABCDEFGHIJKLMNOPQRSTUVWXYZ!\"#$%&\\'()*+,-./:;<=>?@[\\\\]^_`{|}~ \\t\\n\\r\\x0b\\x0c'"
      ]
     },
     "execution_count": 276,
     "metadata": {},
     "output_type": "execute_result"
    }
   ],
   "source": [
    "import string\n",
    "string.printable"
   ]
  },
  {
   "cell_type": "code",
   "execution_count": 277,
   "metadata": {},
   "outputs": [],
   "source": [
    "text_piece_splitter = \"\\x0b\""
   ]
  },
  {
   "cell_type": "code",
   "execution_count": 278,
   "metadata": {},
   "outputs": [],
   "source": [
    "def process_fun(s):\n",
    "    return text_piece_splitter.join(\n",
    "        html_2_textpieces(s)\n",
    "    )"
   ]
  },
  {
   "cell_type": "code",
   "execution_count": 280,
   "metadata": {},
   "outputs": [],
   "source": [
    "from tqdm.autonotebook import tqdm as tqdm"
   ]
  },
  {
   "cell_type": "code",
   "execution_count": 281,
   "metadata": {},
   "outputs": [
    {
     "data": {
      "application/vnd.jupyter.widget-view+json": {
       "model_id": "cf24020169db4391b0abf7763387187b",
       "version_major": 2,
       "version_minor": 0
      },
      "text/plain": [
       "HBox(children=(FloatProgress(value=0.0, max=253697.0), HTML(value='')))"
      ]
     },
     "metadata": {},
     "output_type": "display_data"
    },
    {
     "name": "stdout",
     "output_type": "stream",
     "text": [
      "\n"
     ]
    }
   ],
   "source": [
    "text_pieces = []\n",
    "for s in tqdm(public_doc.description.values):\n",
    "    text_pieces.append(process_fun(s))"
   ]
  },
  {
   "cell_type": "code",
   "execution_count": 282,
   "metadata": {},
   "outputs": [
    {
     "data": {
      "text/plain": [
       "Index(['document_id', 'searchin_id', 'title', 'name', 'privacy_level',\n",
       "       'description', 'stripped_url', 'transcript', 'email', 'inherit_from_id',\n",
       "       'inheritance_type', 'version', 'namespace', 'date_created',\n",
       "       'date_updated', 'word_count'],\n",
       "      dtype='object')"
      ]
     },
     "execution_count": 282,
     "metadata": {},
     "output_type": "execute_result"
    }
   ],
   "source": [
    "public_doc.columns"
   ]
  },
  {
   "cell_type": "code",
   "execution_count": 284,
   "metadata": {},
   "outputs": [],
   "source": [
    "wiki_proc = public_doc[[\"document_id\", \"title\", \"name\", \"stripped_url\", \"namespace\", \"date_created\", \"date_updated\"]].reset_index(drop=True)"
   ]
  },
  {
   "cell_type": "code",
   "execution_count": 285,
   "metadata": {},
   "outputs": [
    {
     "data": {
      "text/plain": [
       "253697"
      ]
     },
     "execution_count": 285,
     "metadata": {},
     "output_type": "execute_result"
    }
   ],
   "source": [
    "len(text_pieces)"
   ]
  },
  {
   "cell_type": "code",
   "execution_count": 286,
   "metadata": {},
   "outputs": [
    {
     "data": {
      "text/plain": [
       "(253697, 7)"
      ]
     },
     "execution_count": 286,
     "metadata": {},
     "output_type": "execute_result"
    }
   ],
   "source": [
    "wiki_proc.shape"
   ]
  },
  {
   "cell_type": "code",
   "execution_count": 287,
   "metadata": {},
   "outputs": [],
   "source": [
    "wiki_proc[\"body_processed\"] = text_pieces"
   ]
  },
  {
   "cell_type": "code",
   "execution_count": 288,
   "metadata": {},
   "outputs": [],
   "source": [
    "wiki_proc.to_csv(\"./public_doc_processed.csv\", index=False)"
   ]
  },
  {
   "cell_type": "code",
   "execution_count": null,
   "metadata": {},
   "outputs": [],
   "source": []
  }
 ],
 "metadata": {
  "kernelspec": {
   "display_name": "Python 3",
   "language": "python",
   "name": "python3"
  },
  "language_info": {
   "codemirror_mode": {
    "name": "ipython",
    "version": 3
   },
   "file_extension": ".py",
   "mimetype": "text/x-python",
   "name": "python",
   "nbconvert_exporter": "python",
   "pygments_lexer": "ipython3",
   "version": "3.6.1"
  }
 },
 "nbformat": 4,
 "nbformat_minor": 2
}
